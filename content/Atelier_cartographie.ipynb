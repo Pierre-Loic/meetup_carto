{
  "cells": [
    {
      "cell_type": "markdown",
      "id": "c3ca3c31",
      "metadata": {},
      "source": [
        "<a href=\"https://meetup-python-grenoble.github.io\" target=\"_blank\"><img src=\"logo.png\" width=500px/></a>\n",
        "\n",
        "# 🐍 <a href=\"https://meetup-python-grenoble.github.io\" target=\"_blank\">Meetup Python Grenoble</a>\n",
        "# 💻 Atelier \"Python Mapping for Good\"\n",
        "## 🗓️ Jeudi 28 mars 2024 - 19h - <a href=\"https://turbine.coop\" target=\"_blank\">La Turbine</a>\n",
        "## Jessica Pic | Elise Pupier | Pierre-Loïc Bayart"
      ]
    },
    {
      "cell_type": "markdown",
      "id": "5647dfb6",
      "metadata": {},
      "source": [
        "## ⚙️ Installation et import des bibliothèques"
      ]
    },
    {
      "cell_type": "code",
      "execution_count": 18,
      "id": "7535bf5e-0543-4d77-99c0-b27894e576ed",
      "metadata": {
        "trusted": true
      },
      "outputs": [],
      "source": [
        "%pip install -q nbformat plotly\n",
        "%pip install -q folium\n",
        "%pip install -q mapclassify"
      ]
    },
    {
      "cell_type": "code",
      "execution_count": 19,
      "id": "d88babe0",
      "metadata": {
        "trusted": true
      },
      "outputs": [],
      "source": [
        "import geopandas as gpd\n",
        "import folium\n",
        "import matplotlib.pyplot as plt\n",
        "import plotly.express as px\n",
        "import pyodide_http\n",
        "\n",
        "pyodide_http.patch_all()"
      ]
    },
    {
      "cell_type": "markdown",
      "id": "3fcbec16",
      "metadata": {},
      "source": [
        "## 📚 Liens vers la documentation des bibliothèques\n",
        "\n",
        "- <a href=\"https://geopandas.org/en/stable/\" target=\"_blank\">GeoPandas</a>\n",
        "- <a href=\"https://matplotlib.org\" target=\"_blank\">Matplotlib</a>\n",
        "- <a href=\"https://python-visualization.github.io/folium/latest/\" target=\"_blank\">Folium</a>\n",
        "- <a href=\"https://plotly.com/python/\" target=\"_blank\">Plotly</a>"
      ]
    },
    {
      "cell_type": "markdown",
      "id": "d9577d4a",
      "metadata": {},
      "source": [
        "## 🗺️ Récupération de données GeoJSON\n",
        "\n",
        "Le projet Github france-geojson propose au format GeoJSON les cartes des **régions, départements, arrondissements, cantons et communes de France (métropole et départements d'outre-mer)** à partir des données publiées par l'<a href=\"https://www.ign.fr\" target=\"_blank\">IGN</a> et l'<a href=\"https://www.insee.fr/fr/accueil\" target=\"_blank\">INSEE</a>. Lien vers le site : https://france-geojson.gregoiredavid.fr\n",
        "\n",
        "- Récupérer l'url du fichier **GeoJSON** de l'**isère** sur le site france-geojson\n",
        "- Avec <a href=\"https://geopandas.org/en/stable/\" target=\"_blank\">GeoPandas</a>, insérer les données dans un **GeoDataframe** (à l'aide de la fonction <a href=\"https://geopandas.org/en/stable/docs/reference/api/geopandas.read_file.html\" target=\"_blank\">geopandas.read_file()</a>)\n",
        "- Afficher ces données sur une **carte** (avec Matplotlib ou Folium) avec **toutes bonnes pratiques de cartographie** (à l'aide de la méthode <a href=\"https://geopandas.org/en/stable/docs/reference/api/geopandas.GeoDataFrame.plot.html\" target=\"_blank\">geopandas.GeoDataFrame.plot()</a> ou de la méthode <a href=\"https://geopandas.org/en/stable/docs/reference/api/geopandas.GeoDataFrame.explore.html\" target=\"_blank\">geopandas.GeoDataFrame.explore()</a> )"
      ]
    },
    {
      "cell_type": "code",
      "execution_count": 20,
      "id": "9698ff90",
      "metadata": {
        "trusted": true
      },
      "outputs": [
        {
          "data": {
            "text/html": [
              "<div>\n",
              "<style scoped>\n",
              "    .dataframe tbody tr th:only-of-type {\n",
              "        vertical-align: middle;\n",
              "    }\n",
              "\n",
              "    .dataframe tbody tr th {\n",
              "        vertical-align: top;\n",
              "    }\n",
              "\n",
              "    .dataframe thead th {\n",
              "        text-align: right;\n",
              "    }\n",
              "</style>\n",
              "<table border=\"1\" class=\"dataframe\">\n",
              "  <thead>\n",
              "    <tr style=\"text-align: right;\">\n",
              "      <th></th>\n",
              "      <th>code</th>\n",
              "      <th>nom</th>\n",
              "      <th>geometry</th>\n",
              "    </tr>\n",
              "  </thead>\n",
              "  <tbody>\n",
              "    <tr>\n",
              "      <th>0</th>\n",
              "      <td>38</td>\n",
              "      <td>Isère</td>\n",
              "      <td>POLYGON ((5.62374 45.61327, 5.62302 45.60428, ...</td>\n",
              "    </tr>\n",
              "  </tbody>\n",
              "</table>\n",
              "</div>"
            ],
            "text/plain": [
              "  code    nom                                           geometry\n",
              "0   38  Isère  POLYGON ((5.62374 45.61327, 5.62302 45.60428, ..."
            ]
          },
          "execution_count": 20,
          "metadata": {},
          "output_type": "execute_result"
        }
      ],
      "source": [
        "gdf = gpd.read_file(\"https://france-geojson.gregoiredavid.fr/repo/departements/38-isere/departement-38-isere.geojson\")\n",
        "gdf"
      ]
    },
    {
      "cell_type": "code",
      "execution_count": 32,
      "id": "b0de2999",
      "metadata": {
        "trusted": true
      },
      "outputs": [
        {
          "data": {
            "image/png": "[encoded data removed]",
            "text/plain": [
              "<Figure size 640x480 with 1 Axes>"
            ]
          },
          "metadata": {},
          "output_type": "display_data"
        }
      ],
      "source": [
        "gdf.plot()\n",
        "plt.title(\"Carte du département de l'isère\")\n",
        "plt.ylabel(\"Latitude (en °)\")\n",
        "plt.xlabel(\"Longitude (en °)\")\n",
        "plt.show()"
      ]
    },
    {
      "cell_type": "code",
      "execution_count": 22,
      "id": "2ee5b0d6",
      "metadata": {
        "trusted": true
      },
      "outputs": [
        {
          "data": {
            "text/html": [
              "<div style=\"width:100%;\"><div style=\"position:relative;width:100%;height:0;padding-bottom:60%;\"><span style=\"color:#565656\">Make this Notebook Trusted to load map: File -> Trust Notebook</span><iframe srcdoc=\"&lt;!DOCTYPE html&gt;\n",
              "&lt;html&gt;\n",
              "&lt;head&gt;\n",
              "    \n",
              "    &lt;meta http-equiv=&quot;content-type&quot; content=&quot;text/html; charset=UTF-8&quot; /&gt;\n",
              "    \n",
              "        &lt;script&gt;\n",
              "            L_NO_TOUCH = false;\n",
              "            L_DISABLE_3D = false;\n",
              "        &lt;/script&gt;\n",
              "    \n",
              "    &lt;style&gt;html, body {width: 100%;height: 100%;margin: 0;padding: 0;}&lt;/style&gt;\n",
              "    &lt;style&gt;#map {position:absolute;top:0;bottom:0;right:0;left:0;}&lt;/style&gt;\n",
              "    &lt;script src=&quot;https://cdn.jsdelivr.net/npm/leaflet@1.9.3/dist/leaflet.js&quot;&gt;&lt;/script&gt;\n",
              "    &lt;script src=&quot;https://code.jquery.com/jquery-3.7.1.min.js&quot;&gt;&lt;/script&gt;\n",
              "    &lt;script src=&quot;https://cdn.jsdelivr.net/npm/bootstrap@5.2.2/dist/js/bootstrap.bundle.min.js&quot;&gt;&lt;/script&gt;\n",
              "    &lt;script src=&quot;https://cdnjs.cloudflare.com/ajax/libs/Leaflet.awesome-markers/2.0.2/leaflet.awesome-markers.js&quot;&gt;&lt;/script&gt;\n",
              "    &lt;link rel=&quot;stylesheet&quot; href=&quot;https://cdn.jsdelivr.net/npm/leaflet@1.9.3/dist/leaflet.css&quot;/&gt;\n",
              "    &lt;link rel=&quot;stylesheet&quot; href=&quot;https://cdn.jsdelivr.net/npm/bootstrap@5.2.2/dist/css/bootstrap.min.css&quot;/&gt;\n",
              "    &lt;link rel=&quot;stylesheet&quot; href=&quot;https://netdna.bootstrapcdn.com/bootstrap/3.0.0/css/bootstrap.min.css&quot;/&gt;\n",
              "    &lt;link rel=&quot;stylesheet&quot; href=&quot;https://cdn.jsdelivr.net/npm/@fortawesome/fontawesome-free@6.2.0/css/all.min.css&quot;/&gt;\n",
              "    &lt;link rel=&quot;stylesheet&quot; href=&quot;https://cdnjs.cloudflare.com/ajax/libs/Leaflet.awesome-markers/2.0.2/leaflet.awesome-markers.css&quot;/&gt;\n",
              "    &lt;link rel=&quot;stylesheet&quot; href=&quot;https://cdn.jsdelivr.net/gh/python-visualization/folium/folium/templates/leaflet.awesome.rotate.min.css&quot;/&gt;\n",
              "    \n",
              "            &lt;meta name=&quot;viewport&quot; content=&quot;width=device-width,\n",
              "                initial-scale=1.0, maximum-scale=1.0, user-scalable=no&quot; /&gt;\n",
              "            &lt;style&gt;\n",
              "                #map_2662af64f8833c9de9c63efc78e120f6 {\n",
              "                    position: relative;\n",
              "                    width: 100.0%;\n",
              "                    height: 100.0%;\n",
              "                    left: 0.0%;\n",
              "                    top: 0.0%;\n",
              "                }\n",
              "                .leaflet-container { font-size: 1rem; }\n",
              "            &lt;/style&gt;\n",
              "        \n",
              "    \n",
              "                    &lt;style&gt;\n",
              "                        .foliumtooltip {\n",
              "                            \n",
              "                        }\n",
              "                       .foliumtooltip table{\n",
              "                            margin: auto;\n",
              "                        }\n",
              "                        .foliumtooltip tr{\n",
              "                            text-align: left;\n",
              "                        }\n",
              "                        .foliumtooltip th{\n",
              "                            padding: 2px; padding-right: 8px;\n",
              "                        }\n",
              "                    &lt;/style&gt;\n",
              "            \n",
              "&lt;/head&gt;\n",
              "&lt;body&gt;\n",
              "    \n",
              "    \n",
              "            &lt;div class=&quot;folium-map&quot; id=&quot;map_2662af64f8833c9de9c63efc78e120f6&quot; &gt;&lt;/div&gt;\n",
              "        \n",
              "&lt;/body&gt;\n",
              "&lt;script&gt;\n",
              "    \n",
              "    \n",
              "            var map_2662af64f8833c9de9c63efc78e120f6 = L.map(\n",
              "                &quot;map_2662af64f8833c9de9c63efc78e120f6&quot;,\n",
              "                {\n",
              "                    center: [45.289668756495004, 5.5514795588253],\n",
              "                    crs: L.CRS.EPSG3857,\n",
              "                    zoom: 10,\n",
              "                    zoomControl: true,\n",
              "                    preferCanvas: false,\n",
              "                }\n",
              "            );\n",
              "            L.control.scale().addTo(map_2662af64f8833c9de9c63efc78e120f6);\n",
              "\n",
              "            \n",
              "\n",
              "        \n",
              "    \n",
              "            var tile_layer_006954fa41dde5b83eb06a0e3081f199 = L.tileLayer(\n",
              "                &quot;https://tile.openstreetmap.org/{z}/{x}/{y}.png&quot;,\n",
              "                {&quot;attribution&quot;: &quot;\\u0026copy; \\u003ca href=\\&quot;https://www.openstreetmap.org/copyright\\&quot;\\u003eOpenStreetMap\\u003c/a\\u003e contributors&quot;, &quot;detectRetina&quot;: false, &quot;maxNativeZoom&quot;: 19, &quot;maxZoom&quot;: 19, &quot;minZoom&quot;: 0, &quot;noWrap&quot;: false, &quot;opacity&quot;: 1, &quot;subdomains&quot;: &quot;abc&quot;, &quot;tms&quot;: false}\n",
              "            );\n",
              "        \n",
              "    \n",
              "            tile_layer_006954fa41dde5b83eb06a0e3081f199.addTo(map_2662af64f8833c9de9c63efc78e120f6);\n",
              "        \n",
              "    \n",
              "            map_2662af64f8833c9de9c63efc78e120f6.fitBounds(\n",
              "                [[44.696067584965, 4.7441167394752], [45.883269928025, 6.3588423781754]],\n",
              "                {}\n",
              "            );\n",
              "        \n",
              "    \n",
              "        function geo_json_abef45fd93a74ea83b75040fe140c14c_styler(feature) {\n",
              "            switch(feature.id) {\n",
              "                default:\n",
              "                    return {&quot;fillOpacity&quot;: 0.5, &quot;weight&quot;: 2};\n",
              "            }\n",
              "        }\n",
              "        function geo_json_abef45fd93a74ea83b75040fe140c14c_highlighter(feature) {\n",
              "            switch(feature.id) {\n",
              "                default:\n",
              "                    return {&quot;fillOpacity&quot;: 0.75};\n",
              "            }\n",
              "        }\n",
              "        function geo_json_abef45fd93a74ea83b75040fe140c14c_pointToLayer(feature, latlng) {\n",
              "            var opts = {&quot;bubblingMouseEvents&quot;: true, &quot;color&quot;: &quot;#3388ff&quot;, &quot;dashArray&quot;: null, &quot;dashOffset&quot;: null, &quot;fill&quot;: true, &quot;fillColor&quot;: &quot;#3388ff&quot;, &quot;fillOpacity&quot;: 0.2, &quot;fillRule&quot;: &quot;evenodd&quot;, &quot;lineCap&quot;: &quot;round&quot;, &quot;lineJoin&quot;: &quot;round&quot;, &quot;opacity&quot;: 1.0, &quot;radius&quot;: 2, &quot;stroke&quot;: true, &quot;weight&quot;: 3};\n",
              "            \n",
              "            let style = geo_json_abef45fd93a74ea83b75040fe140c14c_styler(feature)\n",
              "            Object.assign(opts, style)\n",
              "            \n",
              "            return new L.CircleMarker(latlng, opts)\n",
              "        }\n",
              "\n",
              "        function geo_json_abef45fd93a74ea83b75040fe140c14c_onEachFeature(feature, layer) {\n",
              "            layer.on({\n",
              "                mouseout: function(e) {\n",
              "                    if(typeof e.target.setStyle === &quot;function&quot;){\n",
              "                            geo_json_abef45fd93a74ea83b75040fe140c14c.resetStyle(e.target);\n",
              "                    }\n",
              "                },\n",
              "                mouseover: function(e) {\n",
              "                    if(typeof e.target.setStyle === &quot;function&quot;){\n",
              "                        const highlightStyle = geo_json_abef45fd93a74ea83b75040fe140c14c_highlighter(e.target.feature)\n",
              "                        e.target.setStyle(highlightStyle);\n",
              "                    }\n",
              "                },\n",
              "            });\n",
              "        };\n",
              "        var geo_json_abef45fd93a74ea83b75040fe140c14c = L.geoJson(null, {\n",
              "                onEachFeature: geo_json_abef45fd93a74ea83b75040fe140c14c_onEachFeature,\n",
              "            \n",
              "                style: geo_json_abef45fd93a74ea83b75040fe140c14c_styler,\n",
              "                pointToLayer: geo_json_abef45fd93a74ea83b75040fe140c14c_pointToLayer,\n",
              "        });\n",
              "\n",
              "        function geo_json_abef45fd93a74ea83b75040fe140c14c_add (data) {\n",
              "            geo_json_abef45fd93a74ea83b75040fe140c14c\n",
              "                .addData(data);\n",
              "        }\n",
              "            geo_json_abef45fd93a74ea83b75040fe140c14c_add({&quot;bbox&quot;: [4.7441167394752, 44.696067584965, 6.3588423781754, 45.883269928025], &quot;features&quot;: [{&quot;bbox&quot;: [4.7441167394752, 44.696067584965, 6.3588423781754, 45.883269928025], &quot;geometry&quot;: {&quot;coordinates&quot;: [[[5.62374290574, 45.613268446443], [5.6230208703548, 45.604282743022], [5.6430941654947, 45.585618310022], [5.6470817885996, 45.57674261279], [5.654825526768, 45.570120639284], [5.6695358905937, 45.563199459718], [5.6803575756273, 45.545047248369], [5.6717082687622, 45.536571381592], [5.6768487183882, 45.530475432419], [5.6901528196542, 45.52805100678], [5.6912470759998, 45.521805232869], [5.7011064065529, 45.517546444671], [5.70267342317, 45.511196354762], [5.7125099215192, 45.505293631893], [5.7190481261138, 45.484227733066], [5.7363772302151, 45.472535799856], [5.7322100567066, 45.453663170363], [5.7400977980128, 45.437349988759], [5.7597939416716, 45.435261281179], [5.7634821589831, 45.439042972367], [5.7820850307141, 45.440656144128], [5.7979610020218, 45.437123711786], [5.8074478270167, 45.426270640914], [5.8232128524879, 45.421771370243], [5.8542752462907, 45.4165640969], [5.8607139660775, 45.40924651344], [5.8797333382597, 45.406797743306], [5.8917060274354, 45.398132080514], [5.8910055457909, 45.392211292218], [5.909612774011, 45.390400457607], [5.9149860828604, 45.401349288339], [5.9281112911718, 45.415471973855], [5.9226358813528, 45.416818739345], [5.9090423346643, 45.408294208274], [5.9016155577899, 45.418032646134], [5.904472446297, 45.432574848416], [5.9149042257548, 45.436653554682], [5.9254150387228, 45.464593457788], [5.9164085799586, 45.47667987803], [5.9533584581804, 45.484809788706], [5.9661721637538, 45.492307753934], [5.9821187808525, 45.487027235821], [5.9893333893021, 45.476074199105], [6.0109047885983, 45.47320486613], [6.0085163401932, 45.453848085956], [6.0497526230096, 45.437920464227], [6.0658423549871, 45.444139208117], [6.0909753082569, 45.444016847857], [6.0974519491338, 45.432105098885], [6.1212683533751, 45.438895252904], [6.1324998100528, 45.433380436097], [6.1436456530595, 45.414580875157], [6.154793328964, 45.409336349236], [6.1774532351909, 45.393156916781], [6.1860529913803, 45.374350928001], [6.1916877134761, 45.369022157094], [6.1802922696297, 45.360409426774], [6.1803709629809, 45.35492081739], [6.19476040795, 45.352244568075], [6.1900932248736, 45.342443964482], [6.1844454256034, 45.317952251676], [6.1632323695733, 45.312838044143], [6.1417688736284, 45.299001113002], [6.1319486525639, 45.288285309432], [6.1325841534867, 45.272593012456], [6.1393900781341, 45.266560839079], [6.1385812548773, 45.256050997267], [6.1257002517953, 45.244269262231], [6.1272723570602, 45.233317943724], [6.1416935060053, 45.22232847567], [6.1378211482236, 45.213333187699], [6.1594722938627, 45.202449604679], [6.1619191434924, 45.188405431434], [6.143792292215, 45.154552997649], [6.1613170230868, 45.151005539601], [6.1690294070189, 45.154126275916], [6.1759369876508, 45.162361766933], [6.1892075903757, 45.163730483941], [6.2159372176736, 45.152163633175], [6.2183492305743, 45.145333575225], [6.2277116468863, 45.142717265929], [6.2489312476442, 45.149662771802], [6.2653779890371, 45.139607411594], [6.2605698000566, 45.12684420383], [6.2544936755586, 45.120790168264], [6.2438305270389, 45.117298075856], [6.2293919345611, 45.108749945384], [6.2296723977867, 45.100589085615], [6.2358324302027, 45.087232804381], [6.2401205372094, 45.06771808518], [6.2200802599652, 45.065369735518], [6.2063284689408, 45.026782796498], [6.2039233205269, 45.012471073947], [6.2517609476002, 44.996700081455], [6.2696990840472, 44.998351365091], [6.2970615457571, 45.003365126963], [6.3182021615637, 45.003859362058], [6.3196573396763, 44.994552811249], [6.3148100239742, 44.980185922577], [6.3285012874077, 44.969714464603], [6.3229180108318, 44.953019839313], [6.3290046114892, 44.947315364095], [6.3588423781754, 44.941280796729], [6.3546140951868, 44.923593300625], [6.3581697523493, 44.893778946012], [6.3507779137165, 44.881204072575], [6.3553625022057, 44.854775353601], [6.3363165518362, 44.848370410548], [6.3192302042703, 44.85684625453], [6.302850434726, 44.873257969643], [6.2882129459689, 44.874030533685], [6.2677561761734, 44.86950109295], [6.2581706057376, 44.86248397325], [6.2505425682344, 44.852650516632], [6.2243745547304, 44.852494101643], [6.1963759402105, 44.858978334449], [6.1852192319643, 44.853991864943], [6.1684510585274, 44.852242761941], [6.1490188906075, 44.858169876067], [6.1362266704196, 44.864071820118], [6.1283556561161, 44.861901713563], [6.1166725017074, 44.849313192704], [6.1007058869493, 44.84257849233], [6.0965156572897, 44.837489421771], [6.0653153781591, 44.82268480473], [6.0563403817425, 44.815907431783], [6.0402065129253, 44.827867468677], [6.0302157011626, 44.838097758941], [6.0159331963205, 44.835485814051], [6.0048600553234, 44.820439050514], [5.9961657258664, 44.81787407617], [5.9781993713916, 44.818035522208], [5.9495216336669, 44.804527356596], [5.9537639530916, 44.799525853781], [5.9777793189449, 44.790983738721], [5.9801493330969, 44.781181602373], [5.9555147438847, 44.772449015839], [5.952471613503, 44.76214052281], [5.937984096823, 44.763046424986], [5.926812494728, 44.757135657325], [5.9152344231519, 44.754703072251], [5.900149637893, 44.758315310611], [5.8888310649581, 44.748803778249], [5.8794954997212, 44.747015345674], [5.8652264931802, 44.75155204943], [5.8503937497009, 44.750747373326], [5.8371577512142, 44.757677183301], [5.8270981940509, 44.759688387455], [5.8277714297865, 44.740086051546], [5.8177724444737, 44.730405199263], [5.8087945811456, 44.712101632921], [5.8014699513145, 44.706777613167], [5.7853372486465, 44.700829290463], [5.7590439457666, 44.696067584965], [5.7451471861505, 44.703727044556], [5.7417693832802, 44.710673317311], [5.7193970657268, 44.71376644489], [5.7052357370695, 44.727685225843], [5.6987857560456, 44.722066559691], [5.6682357861974, 44.724714054907], [5.6470991996242, 44.724099914037], [5.64398076712, 44.73157541049], [5.6315009068421, 44.738825957841], [5.6270859672246, 44.752460799598], [5.5899964337532, 44.761617860814], [5.5838826069396, 44.765344858953], [5.5820961321703, 44.777685016074], [5.549761645604, 44.794528877128], [5.5441427350362, 44.788922680811], [5.5555318108241, 44.771216999345], [5.5196122819033, 44.777219870899], [5.4949322129004, 44.782627931299], [5.4641599003636, 44.792424769087], [5.4624328748393, 44.802667812109], [5.4760803164135, 44.809091676298], [5.4767736644408, 44.81563556844], [5.4837019416551, 44.823184908254], [5.4637975227518, 44.825974431714], [5.46606801453, 44.841221723762], [5.4750760812667, 44.867592273489], [5.4700479073037, 44.879032502847], [5.480315188243, 44.896807670531], [5.4836507785865, 44.922286913688], [5.4776757133828, 44.966755171398], [5.4887669714919, 44.990232279193], [5.4884745473303, 45.001223430328], [5.4804589043527, 45.013865278458], [5.4836143274431, 45.022786934023], [5.4648455525186, 45.045940903248], [5.4662213802966, 45.053689072581], [5.4773643019715, 45.072025935069], [5.4888280786289, 45.073091937552], [5.482960100439, 45.083814042465], [5.4683829045497, 45.088079984604], [5.4594178157294, 45.084353288913], [5.4497902629449, 45.070787231096], [5.4257108891404, 45.05626514626], [5.417792323715, 45.048366081468], [5.4088425346067, 45.044735225212], [5.3963847959196, 45.044550028371], [5.3972657713912, 45.038330859223], [5.3883853627744, 45.036136409191], [5.3713895477672, 45.0438762945], [5.3507319764542, 45.047203142466], [5.3437881719066, 45.051703899543], [5.3431185907943, 45.059779112552], [5.334790878464, 45.060805233498], [5.3170937420842, 45.051443710709], [5.3074190056319, 45.053404696516], [5.300644528137, 45.062587690778], [5.2918748938355, 45.063928670512], [5.2662685281178, 45.059810966567], [5.2483439776641, 45.060930865772], [5.2445180483487, 45.066971920702], [5.2303765814513, 45.072500129754], [5.2261246446959, 45.07918137092], [5.2082043994035, 45.084220045879], [5.1833351592236, 45.084878534921], [5.1793794005119, 45.083305819247], [5.1634833877489, 45.06599819123], [5.1472802619812, 45.072549217506], [5.1427276255164, 45.080729882348], [5.1564001681613, 45.082786398559], [5.1628941235196, 45.098426086784], [5.176310666063, 45.107822675236], [5.187438201276, 45.120832355985], [5.1868446925336, 45.145105728237], [5.191700424762, 45.154576461872], [5.1885746038112, 45.171264013519], [5.1770838978704, 45.179740593678], [5.1694383011753, 45.195274384832], [5.1648771309633, 45.198450714497], [5.1674873703836, 45.210221645731], [5.1787087939172, 45.216974316616], [5.2017183191657, 45.217400467946], [5.1853651989338, 45.230539570693], [5.1765458684418, 45.248399245404], [5.156679209512, 45.247392718624], [5.1519149109729, 45.255479740823], [5.1414710173246, 45.245014424938], [5.1314466193386, 45.243321691602], [5.1214293208332, 45.248334945441], [5.1256631119512, 45.26209101661], [5.1301773389705, 45.267206969934], [5.131354968047, 45.286531093128], [5.1385253524837, 45.296216167914], [5.1255573347389, 45.298558532685], [5.1122870741104, 45.289758183582], [5.0910708813282, 45.286770048947], [5.0754112531922, 45.281827518251], [5.0591074575312, 45.313623430692], [5.0543224224169, 45.319051008949], [5.0205931755981, 45.319428254027], [5.0096495089118, 45.342230172467], [4.9891862167152, 45.344042230781], [4.9595854101246, 45.328918743796], [4.9475761450964, 45.328597843474], [4.9284388130601, 45.322951204602], [4.9012637445124, 45.310007436763], [4.8802416809906, 45.2974566456], [4.8586100908504, 45.29851618808], [4.8588038161436, 45.308951945608], [4.8004899840029, 45.298357121937], [4.7889343017658, 45.306705287082], [4.7699315539545, 45.31601418313], [4.7605327238034, 45.327460400164], [4.7613883954348, 45.34062730957], [4.7736174113958, 45.347659425308], [4.7725568146969, 45.35486629718], [4.75599963206, 45.365674921417], [4.7590198368357, 45.381472173695], [4.7558093145859, 45.396415196441], [4.7441167394752, 45.40888118257], [4.7447605342399, 45.421331112612], [4.7586674371295, 45.431094261452], [4.7604638818845, 45.437086232502], [4.7555294013359, 45.447048576794], [4.7569316195483, 45.455703808946], [4.7794738263144, 45.45503324486], [4.7822796715264, 45.472208128185], [4.8120086150016, 45.483343833967], [4.8272424509878, 45.49628139378], [4.841259965977, 45.500603648061], [4.8684816431075, 45.523437511407], [4.8728116747039, 45.531305267791], [4.8644436168106, 45.537346005002], [4.8401221979115, 45.543293629833], [4.8311024088019, 45.547770728452], [4.8086931363098, 45.572300631782], [4.7820837628775, 45.580581569271], [4.7771292183341, 45.587395458322], [4.8034791539416, 45.587537956161], [4.810043763556, 45.589552751649], [4.8577266463597, 45.5795777754], [4.8597792137897, 45.590828133064], [4.8729020897275, 45.595302229166], [4.8821976306935, 45.601571961358], [4.8927769429114, 45.601555646906], [4.9014588479373, 45.60626328191], [4.9275304060187, 45.605707819264], [4.936077557335, 45.608840645632], [4.9603757463763, 45.610073577685], [4.9719782401764, 45.612682039538], [4.9979604182227, 45.603410458278], [5.0019895947765, 45.61395165469], [4.9894470341835, 45.618525768193], [5.004740525885, 45.62311302936], [5.0380861620656, 45.615067173692], [5.0436466037904, 45.621332111414], [5.0351462071679, 45.637203894595], [5.044542399742, 45.647272778433], [5.0580570584302, 45.653246417357], [5.0542255730691, 45.660136259749], [5.0773503823499, 45.67469665728], [5.0888320304231, 45.67702542226], [5.0942617281168, 45.682878871985], [5.1081345828339, 45.688028491968], [5.1048861162621, 45.700378923523], [5.1190903977565, 45.699708184787], [5.1310549291459, 45.707712334796], [5.1430567075695, 45.70002864286], [5.1592030475156, 45.714572205586], [5.1481741409716, 45.718787127083], [5.1339368816918, 45.733254459565], [5.1226621095427, 45.737811043006], [5.0945254918509, 45.739450682898], [5.089379542274, 45.74965948259], [5.093096251464, 45.766087895262], [5.0701066801383, 45.765478936083], [5.0595234976359, 45.782545469588], [5.0611720639467, 45.791532339886], [5.0893113585792, 45.784275046022], [5.101068799884, 45.813378958875], [5.1053919214171, 45.808445750031], [5.1255392074782, 45.811063396795], [5.144195778805, 45.804567863303], [5.1603637371378, 45.802317387422], [5.1768968364449, 45.793483254007], [5.1868098252677, 45.782095115203], [5.1915300805363, 45.771685350507], [5.207617133438, 45.771815785907], [5.2210769334942, 45.768454465895], [5.2668936711139, 45.789370837093], [5.2755531587012, 45.800893358874], [5.2889098684539, 45.811121994364], [5.2906249297479, 45.82025986169], [5.2998813382234, 45.837302685138], [5.3023555890522, 45.847951056741], [5.3091756488254, 45.854928769742], [5.3299682585029, 45.864099868222], [5.3409187894804, 45.880509325682], [5.3538322357139, 45.883269928025], [5.3709067264231, 45.874977947139], [5.3809175288182, 45.867234143477], [5.4131348727477, 45.852221679893], [5.4190015048359, 45.839680703571], [5.4349408141813, 45.831093859803], [5.4204751251472, 45.818886657011], [5.4226465285427, 45.80712278512], [5.4574039982348, 45.780996812177], [5.4825307295084, 45.754588985706], [5.5185478356945, 45.730162983976], [5.5272754539149, 45.715508313157], [5.5455440844452, 45.713591599398], [5.5534381913285, 45.708998294688], [5.5551113922636, 45.700261621079], [5.5711688852413, 45.696872630898], [5.5757522584809, 45.691788289582], [5.5703089690672, 45.684426548161], [5.5612096882931, 45.686985356436], [5.5559860481255, 45.697625399596], [5.5459463129561, 45.697327503887], [5.5451745235973, 45.687400229628], [5.5527423750432, 45.679883465959], [5.5541553698377, 45.671790582993], [5.563862776993, 45.674167414335], [5.5867550088025, 45.665298168862], [5.6030721965565, 45.647684669153], [5.6069435560033, 45.635482392274], [5.62374290574, 45.613268446443]]], &quot;type&quot;: &quot;Polygon&quot;}, &quot;id&quot;: &quot;0&quot;, &quot;properties&quot;: {&quot;code&quot;: &quot;38&quot;, &quot;nom&quot;: &quot;Is\\u00e8re&quot;}, &quot;type&quot;: &quot;Feature&quot;}], &quot;type&quot;: &quot;FeatureCollection&quot;});\n",
              "\n",
              "        \n",
              "    \n",
              "    geo_json_abef45fd93a74ea83b75040fe140c14c.bindTooltip(\n",
              "    function(layer){\n",
              "    let div = L.DomUtil.create(&#x27;div&#x27;);\n",
              "    \n",
              "    let handleObject = feature=&gt;typeof(feature)==&#x27;object&#x27; ? JSON.stringify(feature) : feature;\n",
              "    let fields = [&quot;code&quot;, &quot;nom&quot;];\n",
              "    let aliases = [&quot;code&quot;, &quot;nom&quot;];\n",
              "    let table = &#x27;&lt;table&gt;&#x27; +\n",
              "        String(\n",
              "        fields.map(\n",
              "        (v,i)=&gt;\n",
              "        `&lt;tr&gt;\n",
              "            &lt;th&gt;${aliases[i]}&lt;/th&gt;\n",
              "            \n",
              "            &lt;td&gt;${handleObject(layer.feature.properties[v])}&lt;/td&gt;\n",
              "        &lt;/tr&gt;`).join(&#x27;&#x27;))\n",
              "    +&#x27;&lt;/table&gt;&#x27;;\n",
              "    div.innerHTML=table;\n",
              "    \n",
              "    return div\n",
              "    }\n",
              "    ,{&quot;className&quot;: &quot;foliumtooltip&quot;, &quot;sticky&quot;: true});\n",
              "                     \n",
              "    \n",
              "            geo_json_abef45fd93a74ea83b75040fe140c14c.addTo(map_2662af64f8833c9de9c63efc78e120f6);\n",
              "        \n",
              "&lt;/script&gt;\n",
              "&lt;/html&gt;\" style=\"position:absolute;width:100%;height:100%;left:0;top:0;border:none !important;\" allowfullscreen webkitallowfullscreen mozallowfullscreen></iframe></div></div>"
            ],
            "text/plain": [
              "<folium.folium.Map at 0xa5b7bc8>"
            ]
          },
          "execution_count": 22,
          "metadata": {},
          "output_type": "execute_result"
        }
      ],
      "source": [
        "gdf.explore()"
      ]
    },
    {
      "cell_type": "markdown",
      "id": "04674a91",
      "metadata": {},
      "source": [
        "## 🌍 Choix du système de coordonnées de référence (CRS)\n",
        "\n",
        "La propriété <a href=\"https://geopandas.org/en/stable/docs/reference/api/geopandas.GeoSeries.area.html\" target=\"_blank\">geopandas.GeoSeries.area</a> permet de récupérer la surface des élèments d'une géométrie.\n",
        "\n",
        "- Récupérer la **surface du département de l'isère**. Pourquoi cet avertissement ? (aide avec la propiété <a href=\"https://geopandas.org/en/stable/docs/reference/api/geopandas.GeoDataFrame.crs.html\" target=\"_blank\">geopandas.GeoDataFrame.crs</a>)\n",
        "- Changer de système de coordonnées de référence pour passer en **Web Mercator (EPSG:3857)** grâce à la méthode <a href=\"https://geopandas.org/en/stable/docs/reference/api/geopandas.GeoDataFrame.to_crs.html\" target=\"_blank\">geopandas.GeoDataFrame.to_crs()</a>. Est-ce la bonne valeur de la surface ? Pourquoi ?\n",
        "- Changer de système de coordonnées de référence pour passer en **RGF93 / Lambert-93 (EPSG:2154)**"
      ]
    },
    {
      "cell_type": "code",
      "execution_count": 24,
      "id": "d8e8e505",
      "metadata": {
        "trusted": true
      },
      "outputs": [
        {
          "name": "stderr",
          "output_type": "stream",
          "text": [
            "<ipython-input-24-cdb4e6e609bd>:1: UserWarning:\n",
            "\n",
            "Geometry is in a geographic CRS. Results from 'area' are likely incorrect. Use 'GeoSeries.to_crs()' to re-project geometries to a projected CRS before this operation.\n",
            "\n",
            "\n"
          ]
        },
        {
          "data": {
            "text/plain": [
              "0    0.903121\n",
              "dtype: float64"
            ]
          },
          "execution_count": 24,
          "metadata": {},
          "output_type": "execute_result"
        }
      ],
      "source": [
        "gdf.area"
      ]
    },
    {
      "cell_type": "code",
      "execution_count": 25,
      "id": "7eda16b3",
      "metadata": {
        "trusted": true
      },
      "outputs": [
        {
          "data": {
            "text/plain": [
              "<Geographic 2D CRS: EPSG:4326>\n",
              "Name: WGS 84\n",
              "Axis Info [ellipsoidal]:\n",
              "- Lat[north]: Geodetic latitude (degree)\n",
              "- Lon[east]: Geodetic longitude (degree)\n",
              "Area of Use:\n",
              "- name: World.\n",
              "- bounds: (-180.0, -90.0, 180.0, 90.0)\n",
              "Datum: World Geodetic System 1984 ensemble\n",
              "- Ellipsoid: WGS 84\n",
              "- Prime Meridian: Greenwich"
            ]
          },
          "execution_count": 25,
          "metadata": {},
          "output_type": "execute_result"
        }
      ],
      "source": [
        "gdf.crs"
      ]
    },
    {
      "cell_type": "code",
      "execution_count": 26,
      "id": "36e859f0",
      "metadata": {
        "trusted": true
      },
      "outputs": [
        {
          "data": {
            "text/plain": [
              "0    1.590113e+10\n",
              "dtype: float64"
            ]
          },
          "execution_count": 26,
          "metadata": {},
          "output_type": "execute_result"
        }
      ],
      "source": [
        "gdf_projected = gdf.to_crs(\"EPSG:3857\")\n",
        "gdf_projected.area"
      ]
    },
    {
      "cell_type": "code",
      "execution_count": 27,
      "id": "d566200d",
      "metadata": {
        "trusted": true
      },
      "outputs": [
        {
          "data": {
            "text/plain": [
              "<Derived Projected CRS: EPSG:3857>\n",
              "Name: WGS 84 / Pseudo-Mercator\n",
              "Axis Info [cartesian]:\n",
              "- X[east]: Easting (metre)\n",
              "- Y[north]: Northing (metre)\n",
              "Area of Use:\n",
              "- name: World between 85.06°S and 85.06°N.\n",
              "- bounds: (-180.0, -85.06, 180.0, 85.06)\n",
              "Coordinate Operation:\n",
              "- name: Popular Visualisation Pseudo-Mercator\n",
              "- method: Popular Visualisation Pseudo Mercator\n",
              "Datum: World Geodetic System 1984 ensemble\n",
              "- Ellipsoid: WGS 84\n",
              "- Prime Meridian: Greenwich"
            ]
          },
          "execution_count": 27,
          "metadata": {},
          "output_type": "execute_result"
        }
      ],
      "source": [
        "gdf_projected.crs"
      ]
    },
    {
      "cell_type": "code",
      "execution_count": 28,
      "id": "ad30a93c",
      "metadata": {
        "trusted": true
      },
      "outputs": [
        {
          "data": {
            "text/plain": [
              "0    7.866308e+09\n",
              "dtype: float64"
            ]
          },
          "execution_count": 28,
          "metadata": {},
          "output_type": "execute_result"
        }
      ],
      "source": [
        "gdf_projected = gdf.to_crs(\"EPSG:2154\")\n",
        "gdf_projected.area"
      ]
    },
    {
      "cell_type": "code",
      "execution_count": 29,
      "id": "563f9be1",
      "metadata": {
        "trusted": true
      },
      "outputs": [
        {
          "data": {
            "text/plain": [
              "<Derived Projected CRS: EPSG:2154>\n",
              "Name: RGF93 v1 / Lambert-93\n",
              "Axis Info [cartesian]:\n",
              "- X[east]: Easting (metre)\n",
              "- Y[north]: Northing (metre)\n",
              "Area of Use:\n",
              "- name: France - onshore and offshore, mainland and Corsica.\n",
              "- bounds: (-9.86, 41.15, 10.38, 51.56)\n",
              "Coordinate Operation:\n",
              "- name: Lambert-93\n",
              "- method: Lambert Conic Conformal (2SP)\n",
              "Datum: Reseau Geodesique Francais 1993 v1\n",
              "- Ellipsoid: GRS 1980\n",
              "- Prime Meridian: Greenwich"
            ]
          },
          "execution_count": 29,
          "metadata": {},
          "output_type": "execute_result"
        }
      ],
      "source": [
        "gdf_projected.crs"
      ]
    },
    {
      "cell_type": "markdown",
      "id": "b2721a5c",
      "metadata": {},
      "source": [
        "## Même chose pour l'agglomération de Grenoble"
      ]
    },
    {
      "cell_type": "code",
      "execution_count": null,
      "id": "c1a6bc2a",
      "metadata": {},
      "outputs": [],
      "source": []
    }
  ],
  "metadata": {
    "kernelspec": {
      "display_name": "Python (Pyodide)",
      "language": "python",
      "name": "python"
    },
    "language_info": {
      "codemirror_mode": {
        "name": "python",
        "version": 3
      },
      "file_extension": ".py",
      "mimetype": "text/x-python",
      "name": "python",
      "nbconvert_exporter": "python",
      "pygments_lexer": "ipython3",
      "version": "3.8"
    }
  },
  "nbformat": 4,
  "nbformat_minor": 5
}
