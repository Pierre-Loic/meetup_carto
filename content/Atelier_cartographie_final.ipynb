{
 "cells": [
  {
   "cell_type": "markdown",
   "id": "c3ca3c31",
   "metadata": {},
   "source": [
    "<a href=\"https://meetup-python-grenoble.github.io/events/2024-03-28/\" target=\"_blank\"><img src=\"logo.png\" width=500px/></a>\n",
    "\n",
    "# 🐍 <a href=\"https://meetup-python-grenoble.github.io\" target=\"_blank\">Meetup Python Grenoble</a>\n",
    "# 💻 Atelier \"Python Mapping for Good\"\n",
    "## 🗓️ Jeudi 28 mars 2024 - 19h - <a href=\"https://turbine.coop\" target=\"_blank\">La Turbine</a>\n",
    "## <a href=\"https://fr.linkedin.com/in/jessica-pic-698846150\" target=\"_blank\">Jessica Pic</a> | <a href=\"https://fr.linkedin.com/in/elise-pupier\" target=\"_blank\">Elise Pupier</a> | <a href=\"https://fr.linkedin.com/in/pierreloicbayart\" target=\"_blank\">Pierre-Loïc Bayart</a>"
   ]
  },
  {
   "cell_type": "markdown",
   "id": "5647dfb6",
   "metadata": {},
   "source": [
    "## ⚙️ Installation et import des bibliothèques"
   ]
  },
  {
   "cell_type": "code",
   "execution_count": null,
   "id": "7535bf5e-0543-4d77-99c0-b27894e576ed",
   "metadata": {},
   "outputs": [],
   "source": [
    "%pip install -q nbformat plotly\n",
    "%pip install -q folium\n",
    "%pip install -q mapclassify"
   ]
  },
  {
   "cell_type": "code",
   "execution_count": null,
   "id": "d88babe0",
   "metadata": {},
   "outputs": [],
   "source": [
    "import geopandas as gpd\n",
    "import pandas as pd\n",
    "import folium\n",
    "import matplotlib.pyplot as plt\n",
    "import plotly.express as px\n",
    "import pyodide_http\n",
    "\n",
    "pyodide_http.patch_all()"
   ]
  },
  {
   "cell_type": "markdown",
   "id": "3fcbec16",
   "metadata": {},
   "source": [
    "## 📚 Liens vers la documentation des bibliothèques\n",
    "\n",
    "- <a href=\"https://pandas.pydata.org\" target=\"_blank\">Pandas</a>\n",
    "- <a href=\"https://geopandas.org/en/stable/\" target=\"_blank\">GeoPandas</a>\n",
    "- <a href=\"https://matplotlib.org\" target=\"_blank\">Matplotlib</a>\n",
    "- <a href=\"https://python-visualization.github.io/folium/latest/\" target=\"_blank\">Folium</a>\n",
    "- <a href=\"https://plotly.com/python/\" target=\"_blank\">Plotly</a>"
   ]
  },
  {
   "cell_type": "markdown",
   "id": "d9577d4a",
   "metadata": {},
   "source": [
    "## 🗺️ Récupération de données GeoJSON\n",
    "\n",
    "Le projet Github france-geojson propose au format GeoJSON les cartes des **régions, départements, arrondissements, cantons et communes de France (métropole et départements d'outre-mer)** à partir des données publiées par l'<a href=\"https://www.ign.fr\" target=\"_blank\">IGN</a> et l'<a href=\"https://www.insee.fr/fr/accueil\" target=\"_blank\">INSEE</a>. Lien vers le site : https://france-geojson.gregoiredavid.fr\n",
    "\n",
    "- Récupérer l'url du fichier **GeoJSON** de l'**isère** sur le site france-geojson\n",
    "- Avec <a href=\"https://geopandas.org/en/stable/\" target=\"_blank\">GeoPandas</a>, insérer les données dans un **GeoDataframe** (à l'aide de la fonction <a href=\"https://geopandas.org/en/stable/docs/reference/api/geopandas.read_file.html\" target=\"_blank\">geopandas.read_file()</a>)\n",
    "- Afficher ces données sur une **carte** (avec Matplotlib ou Folium) avec **toutes bonnes pratiques de cartographie** (à l'aide de la méthode <a href=\"https://geopandas.org/en/stable/docs/reference/api/geopandas.GeoDataFrame.plot.html\" target=\"_blank\">geopandas.GeoDataFrame.plot()</a> ou de la méthode <a href=\"https://geopandas.org/en/stable/docs/reference/api/geopandas.GeoDataFrame.explore.html\" target=\"_blank\">geopandas.GeoDataFrame.explore()</a> )"
   ]
  },
  {
   "cell_type": "code",
   "execution_count": null,
   "id": "9698ff90",
   "metadata": {},
   "outputs": [],
   "source": [
    "gdf = gpd.read_file(\"departement-38-isere.geojson\")\n",
    "gdf"
   ]
  },
  {
   "cell_type": "code",
   "execution_count": null,
   "id": "b0de2999",
   "metadata": {},
   "outputs": [],
   "source": [
    "gdf.plot()\n",
    "plt.title(\"Carte du département de l'isère\")\n",
    "plt.ylabel(\"Latitude (en °)\")\n",
    "plt.xlabel(\"Longitude (en °)\")\n",
    "plt.show()"
   ]
  },
  {
   "cell_type": "code",
   "execution_count": null,
   "id": "2ee5b0d6",
   "metadata": {},
   "outputs": [],
   "source": [
    "gdf.explore()"
   ]
  },
  {
   "cell_type": "markdown",
   "id": "04674a91",
   "metadata": {},
   "source": [
    "## 🌍 Choix du système de coordonnées de référence (CRS)\n",
    "\n",
    "La propriété <a href=\"https://geopandas.org/en/stable/docs/reference/api/geopandas.GeoSeries.area.html\" target=\"_blank\">geopandas.GeoSeries.area</a> permet de récupérer la surface des élèments d'une géométrie.\n",
    "\n",
    "- Récupérer la **surface du département de l'isère**. Pourquoi cet avertissement ? (aide avec la propiété <a href=\"https://geopandas.org/en/stable/docs/reference/api/geopandas.GeoDataFrame.crs.html\" target=\"_blank\">geopandas.GeoDataFrame.crs</a>)\n",
    "- Changer de système de coordonnées de référence pour passer en **Web Mercator (EPSG:3857)** grâce à la méthode <a href=\"https://geopandas.org/en/stable/docs/reference/api/geopandas.GeoDataFrame.to_crs.html\" target=\"_blank\">geopandas.GeoDataFrame.to_crs()</a>. Est-ce la bonne valeur de la surface ? Pourquoi ?\n",
    "- Changer de système de coordonnées de référence pour passer en **RGF93 / Lambert-93 (EPSG:2154)**"
   ]
  },
  {
   "cell_type": "code",
   "execution_count": null,
   "id": "d8e8e505",
   "metadata": {},
   "outputs": [],
   "source": [
    "gdf.area"
   ]
  },
  {
   "cell_type": "code",
   "execution_count": null,
   "id": "7eda16b3",
   "metadata": {},
   "outputs": [],
   "source": [
    "gdf.crs"
   ]
  },
  {
   "cell_type": "code",
   "execution_count": null,
   "id": "36e859f0",
   "metadata": {},
   "outputs": [],
   "source": [
    "gdf_projected = gdf.to_crs(\"EPSG:3857\")\n",
    "gdf_projected.area"
   ]
  },
  {
   "cell_type": "code",
   "execution_count": null,
   "id": "d566200d",
   "metadata": {},
   "outputs": [],
   "source": [
    "gdf_projected.crs"
   ]
  },
  {
   "cell_type": "code",
   "execution_count": null,
   "id": "ad30a93c",
   "metadata": {},
   "outputs": [],
   "source": [
    "gdf_projected = gdf.to_crs(\"EPSG:2154\")\n",
    "gdf_projected.area"
   ]
  },
  {
   "cell_type": "code",
   "execution_count": null,
   "id": "563f9be1",
   "metadata": {},
   "outputs": [],
   "source": [
    "gdf_projected.crs"
   ]
  },
  {
   "cell_type": "markdown",
   "id": "b2721a5c",
   "metadata": {},
   "source": [
    "## ⛰️ Même chose pour l'agglomération de Grenoble\n",
    "\n",
    "Les **limites des communes de la métropole de Grenoble** peuvent être récupérées à cette adresse au format **GeoJSON** : https://www.data.gouv.fr/fr/datasets/les-communes-de-la-metropole-1/\n",
    "\n",
    "Comme précédemment :\n",
    "\n",
    "- **Récupérer** les données dans un **GeoDataframe**\n",
    "- **Afficher** les données sur une **carte**\n",
    "- **Calculer la surface** de l'agglomération"
   ]
  },
  {
   "cell_type": "code",
   "execution_count": null,
   "id": "c1a6bc2a",
   "metadata": {},
   "outputs": [],
   "source": [
    "#metro = gpd.read_file(\"https://data.metropolegrenoble.fr/sites/default/files/dataset/2023/02/22/847e2e81-5903-4404-b77e-4c9c36ad1584/limites_communales_metro_epsg4326.json\")\n",
    "metro = gpd.read_file(\"limites_communales_metro_epsg4326.geojson\")\n",
    "metro"
   ]
  },
  {
   "cell_type": "code",
   "execution_count": null,
   "id": "8805b7dd-5d50-4d0d-b0f9-8f9902e06205",
   "metadata": {},
   "outputs": [],
   "source": [
    "metro.plot()\n",
    "plt.title(\"Carte de la métropole de Grenoble\")\n",
    "plt.ylabel(\"Latitude (en °)\")\n",
    "plt.xlabel(\"Longitude (en °)\")\n",
    "plt.show()"
   ]
  },
  {
   "cell_type": "code",
   "execution_count": null,
   "id": "d21def06-3c62-455b-a501-ccb4c1d21553",
   "metadata": {},
   "outputs": [],
   "source": [
    "metro.explore()"
   ]
  },
  {
   "cell_type": "code",
   "execution_count": null,
   "id": "66690040-6563-4625-9481-fdf2d0dd77b1",
   "metadata": {},
   "outputs": [],
   "source": [
    "metro.crs"
   ]
  },
  {
   "cell_type": "code",
   "execution_count": null,
   "id": "33f70a3e-d90a-488f-be75-b473b91d684f",
   "metadata": {},
   "outputs": [],
   "source": [
    "metro_projected = metro.to_crs(\"EPSG:2154\")\n",
    "metro_projected.area"
   ]
  },
  {
   "cell_type": "code",
   "execution_count": null,
   "id": "9ef32558-c010-4451-8ed4-6d5665092a45",
   "metadata": {},
   "outputs": [],
   "source": [
    "metro_projected.area.sum()"
   ]
  },
  {
   "cell_type": "markdown",
   "id": "01c063f5-cb27-4e1f-bc18-68133248cf6f",
   "metadata": {},
   "source": [
    "## 📊 Analyse des données \"Longue Vie Aux Objets\" de l'ADEME\n",
    "\n",
    "<a href=\"https://longuevieauxobjets.ademe.fr\" target=\"_blank\"><img src=\"https://epargnonsnosressources.gouv.fr/wp-content/uploads/2023/11/visuel_opengraph_carre.jpg\" width=200px/></a>\n",
    "\n",
    "> Donne accès aux **coordonnées de professionnels** dont l'activité permet d'**allonger la durée de vie des objets** : associations, entreprises, commerçants indépendants, artisans, enseignes de grande distribution, plateformes digitales, ...\n",
    "\n",
    "> Certains d'entre eux, les **Répar'Acteurs**, sont signalés par un code **couleur vert** en raison de leur engagement en faveur de la **réparation des objets** avant tout remplacement par un produit neuf.\n",
    "___\n",
    "- Récupérer les **données** dans un **dataframe Pandas** (à l'aide de la fonction <a href=\"https://pandas.pydata.org/pandas-docs/stable/reference/api/pandas.read_csv.html\" target=\"_blank\">pandas.read_csv()</a> ⚠️ attention au séparateur !)\n",
    "- Transformer ce dataframe en **GeoDataframe** (à l'aide de la classe <a href=\"https://geopandas.org/en/stable/docs/reference/api/geopandas.GeoDataFrame.html\" target=\"_blank\">geopandas.GeoDataFrame()</a>)\n",
    "- Effectuer une **jointure spatiale** (à l'aide de la fonction <a href=\"https://geopandas.org/en/stable/docs/reference/api/geopandas.sjoin.html\" target=\"_blank\">geopandas.sjoin()</a>)\n",
    "- **Afficher les points** qui sont dans le périmètre de l'agglomération de Grenoble"
   ]
  },
  {
   "cell_type": "code",
   "execution_count": null,
   "id": "79ee5578-7d40-4e11-bdea-c7ccbd3305f2",
   "metadata": {},
   "outputs": [],
   "source": [
    "from shapely.geometry import Point"
   ]
  },
  {
   "cell_type": "code",
   "execution_count": null,
   "id": "09a41921-fdc3-4269-afca-9f2c315303f4",
   "metadata": {},
   "outputs": [],
   "source": [
    "#ademe = pd.read_csv(\"https://raw.githubusercontent.com/Pierre-Loic/meetup_carto/main/content/Ademe_LVAO_Data_For_Good.csv\", sep=\";\")\n",
    "ademe = pd.read_csv(\"Ademe_LVAO_Data_For_Good.csv\", sep=\";\")\n",
    "ademe"
   ]
  },
  {
   "cell_type": "code",
   "execution_count": null,
   "id": "4e0e6bbb-cc17-4adc-b2a0-22177098af40",
   "metadata": {},
   "outputs": [],
   "source": [
    "ademe['latitude'] = pd.to_numeric(ademe['latitude'], errors='coerce')\n",
    "ademe['longitude'] = pd.to_numeric(ademe['longitude'], errors='coerce')"
   ]
  },
  {
   "cell_type": "code",
   "execution_count": null,
   "id": "64d84dac-1a69-483b-a6bc-e5e2e3995be7",
   "metadata": {},
   "outputs": [],
   "source": [
    "ademe_gdf = gpd.GeoDataFrame(ademe, geometry=[Point(xy) for xy in zip(ademe.longitude, ademe.latitude)])\n",
    "ademe_gdf.crs = \"EPSG:4326\"\n",
    "ademe_gdf"
   ]
  },
  {
   "cell_type": "code",
   "execution_count": null,
   "id": "046b64b9-c1f4-4d53-adff-8e3f2f6150e2",
   "metadata": {},
   "outputs": [],
   "source": [
    "if ademe_gdf.crs != metro.crs:\n",
    "    ademe_gdf = ademe_gdf.to_crs(metro.crs)\n",
    "\n",
    "points_within_polygons = gpd.sjoin(ademe_gdf, metro, how=\"inner\", predicate='within')"
   ]
  },
  {
   "cell_type": "code",
   "execution_count": null,
   "id": "2a207f46-39f7-40cc-97d5-07fed60ada2a",
   "metadata": {},
   "outputs": [],
   "source": [
    "points_within_polygons.explore()"
   ]
  },
  {
   "cell_type": "code",
   "execution_count": null,
   "id": "1c7fa7eb",
   "metadata": {},
   "outputs": [],
   "source": []
  }
 ],
 "metadata": {
  "kernelspec": {
   "display_name": "Python 3 (ipykernel)",
   "language": "python",
   "name": "python3"
  },
  "language_info": {
   "codemirror_mode": {
    "name": "ipython",
    "version": 3
   },
   "file_extension": ".py",
   "mimetype": "text/x-python",
   "name": "python",
   "nbconvert_exporter": "python",
   "pygments_lexer": "ipython3",
   "version": "3.11.5"
  }
 },
 "nbformat": 4,
 "nbformat_minor": 5
}
